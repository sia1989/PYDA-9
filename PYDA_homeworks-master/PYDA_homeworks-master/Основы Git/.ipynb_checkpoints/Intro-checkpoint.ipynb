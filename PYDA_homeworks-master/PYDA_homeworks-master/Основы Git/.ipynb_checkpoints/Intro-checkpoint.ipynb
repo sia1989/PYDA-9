{
 "cells": [
  {
   "cell_type": "markdown",
   "metadata": {},
   "source": [
    "**Задача 1**. Мы должны удостовериться, что вы установили требуемое ПО перед содержательной частью курса. Необходимо присласть скриншот скринштон запущенного Jupyter Notebook на вашем ПК. Можно использовать сервис https://pastenow.ru/."
   ]
  },
  {
   "cell_type": "markdown",
   "metadata": {},
   "source": [
    "**Задача 2**. Пришлите ссылку на ваш репозиторий с файлами-заготовками домашних работ (для этого необходимо клонировать репозиторий https://github.com/obulygin/PYDA_homeworks.git). Я могу править и изменять файлы к ДЗ вплоть до соотвествующей лекции, поэтому всегда проверяйте актуальность репозитория и делайте pull изменений."
   ]
  },
  {
   "cell_type": "markdown",
   "metadata": {},
   "source": [
    "**Задача 3**. Пришлите скриншот, который будет демонстрировать, что вы прошли 4 уровня \"Знакомство с Git\" и 8 уровней \"Удаленные репозитории\" на сайте https://learngitbranching.js.org/"
   ]
  }
 ],
 "metadata": {
  "kernelspec": {
   "display_name": "Python 3",
   "language": "python",
   "name": "python3"
  },
  "language_info": {
   "codemirror_mode": {
    "name": "ipython",
    "version": 3
   },
   "file_extension": ".py",
   "mimetype": "text/x-python",
   "name": "python",
   "nbconvert_exporter": "python",
   "pygments_lexer": "ipython3",
   "version": "3.7.1"
  }
 },
 "nbformat": 4,
 "nbformat_minor": 2
}
