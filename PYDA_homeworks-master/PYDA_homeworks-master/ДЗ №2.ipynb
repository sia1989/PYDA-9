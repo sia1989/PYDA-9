{
 "cells": [
  {
   "cell_type": "markdown",
   "metadata": {},
   "source": [
    "Задание 1. Даны 2 строки: long_phrase и short_phrase. \n",
    "Напишите код, который проверяет действительно ли длинная фраза long_phrase длиннее короткой short_phrase. \n",
    "И выводит True или False в зависимости от результата сравнения.\n",
    "\n",
    "long_phrase = 'Насколько проще было бы писать программы, если бы не заказчики'\n",
    "short_phrase = '640Кб должно хватить для любых задач. Билл Гейтс (по легенде)'"
   ]
  },
  {
   "cell_type": "code",
   "execution_count": 3,
   "metadata": {},
   "outputs": [],
   "source": [
    "long_phrase = 'Насколько проще было бы писать программы, если бы не заказчики'\n",
    "short_phrase = '640Кб должно хватить для любых задач. Билл Гейтс (по легенде)'"
   ]
  },
  {
   "cell_type": "code",
   "execution_count": 8,
   "metadata": {},
   "outputs": [
    {
     "data": {
      "text/plain": [
       "62"
      ]
     },
     "execution_count": 8,
     "metadata": {},
     "output_type": "execute_result"
    }
   ],
   "source": [
    "len(long_phrase)"
   ]
  },
  {
   "cell_type": "code",
   "execution_count": 9,
   "metadata": {
    "scrolled": true
   },
   "outputs": [
    {
     "data": {
      "text/plain": [
       "61"
      ]
     },
     "execution_count": 9,
     "metadata": {},
     "output_type": "execute_result"
    }
   ],
   "source": [
    "len(short_phrase)"
   ]
  },
  {
   "cell_type": "code",
   "execution_count": 16,
   "metadata": {
    "scrolled": true
   },
   "outputs": [
    {
     "data": {
      "text/plain": [
       "True"
      ]
     },
     "execution_count": 16,
     "metadata": {},
     "output_type": "execute_result"
    }
   ],
   "source": [
    "len(long_phrase) > len(short_phrase)"
   ]
  },
  {
   "cell_type": "code",
   "execution_count": 3,
   "metadata": {},
   "outputs": [
    {
     "name": "stdout",
     "output_type": "stream",
     "text": [
      "Конец программы\n"
     ]
    }
   ],
   "source": [
    "#Или так:\n",
    "62 > 61\n",
    "print('Конец программы')"
   ]
  },
  {
   "cell_type": "markdown",
   "metadata": {},
   "source": [
    "Задание 2. Дано значение объема файла в байтах (в мегабайте 2^20 байт).\n",
    "Напишите перевод этого значения в мегабайты в формате: \"Объем файла равен 213.68Mb\"."
   ]
  },
  {
   "cell_type": "code",
   "execution_count": 25,
   "metadata": {},
   "outputs": [
    {
     "name": "stdout",
     "output_type": "stream",
     "text": [
      "21474836480\n",
      "Объем файла равен 213.68Mb\n"
     ]
    }
   ],
   "source": [
    "Kb = 1024\n",
    "Mb = (1024 * 1024)\n",
    "megabyte = 1048576\n",
    "x = megabyte * 1024\n",
    "byte = x*20\n",
    "print(byte)\n",
    "\n",
    "\n",
    "\n",
    "print(\"Объем файла равен 213.68Mb\")"
   ]
  },
  {
   "cell_type": "code",
   "execution_count": 26,
   "metadata": {},
   "outputs": [
    {
     "name": "stdout",
     "output_type": "stream",
     "text": [
      "1048576\n"
     ]
    }
   ],
   "source": [
    "# конвертируем кб в мб\n",
    "Kb = 1024\n",
    "Mb = (1024 * 1024)\n",
    "print(Mb)"
   ]
  },
  {
   "cell_type": "code",
   "execution_count": 88,
   "metadata": {},
   "outputs": [
    {
     "name": "stdout",
     "output_type": "stream",
     "text": [
      "224059719.68\n"
     ]
    }
   ],
   "source": [
    "print(213.68 * 2**20)"
   ]
  },
  {
   "cell_type": "code",
   "execution_count": 26,
   "metadata": {},
   "outputs": [
    {
     "name": "stdout",
     "output_type": "stream",
     "text": [
      "224059719.68 Byte\n",
      "Дано 224059719.68 байт данных. Переведите значение в мегабайты, если 1 мегабайт = 2^20 байта\n",
      "Объем файла равен 213.68 Mb\n",
      "Конец программы\n"
     ]
    }
   ],
   "source": [
    "z = (213.68 * 2**20)\n",
    "print(z, 'Byte')\n",
    "print('Дано 224059719.68 байт данных. Переведите значение в мегабайты, если 1 мегабайт = 2^20 байта')\n",
    "z = 224059719.68\n",
    "q = 2**20\n",
    "if z > q:\n",
    "    x = 100 / (q / z) / 100\n",
    "print('Объем файла равен', x, 'Mb')\n",
    "print('Конец программы')"
   ]
  },
  {
   "cell_type": "markdown",
   "metadata": {},
   "source": [
    "Задание 3. Разработать приложение для определения знака зодиака по дате рождения.\n",
    "\n",
    "Пример:\n",
    "Введите месяц: март\n",
    "Введите число: 6\n",
    "Вывод: Рыбы"
   ]
  },
  {
   "cell_type": "code",
   "execution_count": 27,
   "metadata": {},
   "outputs": [
    {
     "name": "stdout",
     "output_type": "stream",
     "text": [
      "Введите месяц: март\n",
      "Введите число: 7\n",
      "Вывод: Рыбы\n",
      "Конец программы\n"
     ]
    }
   ],
   "source": [
    "month = 'апрель', 'май', 'июнь', 'июль', 'август', 'сентябрь', 'октябрь', 'ноябрь', 'декабрь', 'январь', 'февраль', 'март'\n",
    "number = 1-31\n",
    "month_input = input('Введите месяц: ')\n",
    "number_input = int(input('Введите число: '))\n",
    "\n",
    "if 21 <= number_input <= 31 and month_input == ('март'):\n",
    "    print('Вывод: Овен')\n",
    "elif 1 <= number_input <= 19 and month_input == ('апрель'):\n",
    "    print('Вывод: Овен')\n",
    "if 20 <= number_input <= 30 and month_input == ('апрель'):\n",
    "    print('Вывод: Телец') \n",
    "elif 1 <= number_input <= 20 and month_input == ('май'):\n",
    "    print('Вывод: Телец')\n",
    "if 21 <= number_input <= 31 and month_input == ('май'):\n",
    "    print('Вывод: Близнецы') \n",
    "elif 1 <= number_input <= 20 and month_input == ('июнь'):\n",
    "    print('Вывод: Близнецы')\n",
    "if 21 <= number_input <= 30 and month_input == ('июнь'):\n",
    "    print('Вывод: Рак') \n",
    "elif 1 <= number_input <= 22 and month_input == ('июль'):\n",
    "    print('Вывод: Рак')\n",
    "if 23 <= number_input <= 31 and month_input == ('июль'):\n",
    "    print('Вывод: Лев') \n",
    "elif 1 <= number_input <= 22 and month_input == ('август'):\n",
    "    print('Вывод: Лев')\n",
    "if 23 <= number_input <= 31 and month_input == ('август'):\n",
    "    print('Вывод: Дева') \n",
    "elif 1 <= number_input <= 22 and month_input == ('сентябрь'):\n",
    "    print('Вывод: Дева')\n",
    "if 23 <= number_input <= 30 and month_input == ('сентябрь'):\n",
    "    print('Вывод: Весы') \n",
    "elif 1 <= number_input <= 23 and month_input == ('октябрь'):\n",
    "    print('Вывод: Весы')\n",
    "if 24 <= number_input <= 31 and month_input == ('октябрь'):\n",
    "    print('Вывод: Скорпион') \n",
    "elif 1 <= number_input <= 22 and month_input == ('ноябрь'):\n",
    "    print('Вывод: Скорпион')\n",
    "if 23 <= number_input <= 30 and month_input == ('ноябрь'):\n",
    "    print('Вывод: Стрелец') \n",
    "elif 1 <= number_input <= 21 and month_input == ('декабрь'):\n",
    "    print('Вывод: Стрелец')\n",
    "if 22 <= number_input <= 31 and month_input == ('декабрь'):\n",
    "    print('Вывод: Козерог') \n",
    "elif 1 <= number_input <= 19 and month_input == ('январь'):\n",
    "    print('Вывод: Козерог')\n",
    "if 20 <= number_input <= 31 and month_input == ('январь'):\n",
    "    print('Вывод: Водолей') \n",
    "elif 1 <= number_input <= 19 and month_input == ('февраль'):\n",
    "    print('Вывод: Водолей')\n",
    "if 20 <= number_input <= 28 and month_input == ('февраль'):\n",
    "    print('Вывод: Рыбы') \n",
    "elif 1 <= number_input <= 20 and month_input == ('март'):\n",
    "    print('Вывод: Рыбы')\n",
    "    \n",
    "print('Конец программы')"
   ]
  },
  {
   "cell_type": "markdown",
   "metadata": {},
   "source": [
    "Задание 4. Нужно разработать приложение для финансового планирования. \n",
    "\n",
    "Приложение учитывает сколько \"уходит на ипотеку\", \"на жизнь\" и сколько \"нужно отложить на пенсию\". \n",
    "\n",
    "Пользователь вводит:\n",
    "- заработанную плату в месяц.\n",
    "- сколько процентов от ЗП уходит на ипотеку.\n",
    "- сколько процентов от ЗП уходит \"на жизнь\".\n",
    "- сколько раз приходит премия в год.\n",
    "\n",
    "Остальная часть заработанной платы откладывается на пенсию.\n",
    "\n",
    "Также пользователю приходит премия в размере зарплаты, от которой половина уходит на отпуск, а вторая половина откладывается.\n",
    "\n",
    "Программа должна учитывать сколько премий было в год.\n",
    "\n",
    "Нужно вывести сколько денег тратит пользователь на ипотеку и сколько он накопит за год.\n",
    "\n",
    "Пример:\n",
    "\n",
    "Введите заработанную плату в месяц: 100000\n",
    "\n",
    "Введите сколько процентов уходит на ипотеку: 30\n",
    "\n",
    "Введите сколько процентов уходит на жизнь: 50\n",
    "\n",
    "Введите количество премий за год: 2\n",
    "\n",
    "Вывод: На ипотеку было потрачено: 360000 рублей Было накоплено: 340000 рублей"
   ]
  },
  {
   "cell_type": "code",
   "execution_count": 22,
   "metadata": {},
   "outputs": [
    {
     "name": "stdout",
     "output_type": "stream",
     "text": [
      "Введите заработную плату в месяц: 150000\n",
      "Введите сколько процентов уходит на жизнь: 75\n",
      "Введите сколько процентов уходит на ипотеку: 25\n",
      "Введите количество премий в год: 5\n",
      "Вывод на ипотеку было потрачено:  450000\n",
      "Было накоплено:  375000\n"
     ]
    }
   ],
   "source": [
    "# ЗП= 100.000 руб., где 50% это на жизнь, 30% на ипотеку, остальные 20% на пенсию\n",
    "# salary = 100000\n",
    "# life_percent = 50\n",
    "# mortgage_percent = 30\n",
    "# bonus_num = 2\n",
    "# bonus_value = 100000\n",
    "# pension = 20000\n",
    "\n",
    "#___НАЧИНАЕМ СЧИТАТЬ___:\n",
    "\n",
    "# Заработная плата в месяц:\n",
    "salary_input_month = int(input('Введите заработную плату в месяц: '))\n",
    "# откладываем на жизнь 50%:\n",
    "life_input_month = int(input('Введите сколько процентов уходит на жизнь: '))\n",
    "life = life_input_month * salary_input_month / 100\n",
    "# откладываем на ипотеку 30%:\n",
    "mortgage_input_month = int(input('Введите сколько процентов уходит на ипотеку: '))\n",
    "mortgage = mortgage_input_month * salary_input_month / 100\n",
    "# откладываем на пенсию 20%:\n",
    "pension = life - mortgage\n",
    "# считаем премии:\n",
    "bonus_value_input = int(input('Введите количество премий в год: '))\n",
    "bonus = salary_input_month * bonus_value_input\n",
    "# где на отпуск уходит 50%, остальные 50% откладываются:\n",
    "vacation_value = bonus * 0.5\n",
    "capital_value = bonus * 0.5\n",
    "\n",
    "# _Cчитаем за 12 месяцев итог_:\n",
    "mortgage_total = mortgage * 12\n",
    "if mortgage_total:\n",
    "    print('Вывод на ипотеку было потрачено: ', int(mortgage_total))\n",
    "\n",
    "capital_value_total = capital_value * bonus_value_input\n",
    "if capital_value_total:\n",
    "    print('Было накоплено: ', int(capital_value))"
   ]
  },
  {
   "cell_type": "code",
   "execution_count": null,
   "metadata": {},
   "outputs": [],
   "source": []
  }
 ],
 "metadata": {
  "kernelspec": {
   "display_name": "Python 3",
   "language": "python",
   "name": "python3"
  },
  "language_info": {
   "codemirror_mode": {
    "name": "ipython",
    "version": 3
   },
   "file_extension": ".py",
   "mimetype": "text/x-python",
   "name": "python",
   "nbconvert_exporter": "python",
   "pygments_lexer": "ipython3",
   "version": "3.7.6"
  }
 },
 "nbformat": 4,
 "nbformat_minor": 4
}
